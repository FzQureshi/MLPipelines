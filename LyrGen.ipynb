{
 "cells": [
  {
   "cell_type": "markdown",
   "metadata": {
    "id": "9_utN0lKDcjP"
   },
   "source": [
    "![alt text](gisma_logo.png \"logo\")"
   ]
  },
  {
   "cell_type": "markdown",
   "metadata": {},
   "source": [
    "<h1><center>M508: NLP Pipeline</center></h1>\n",
    "<h5><center>Submitted by: Faiz Qureshi, GH1018786\n",
    "<h5><center>Module Leader: Prof. Dr. Mohammad Mahdavi"
   ]
  },
  {
   "cell_type": "markdown",
   "metadata": {},
   "source": [
    "![alt text](ai_music.jpeg \"logo\")"
   ]
  },
  {
   "cell_type": "markdown",
   "metadata": {},
   "source": [
    "<h1><center>LYRGEN: ML Based Lyric Generation</center></h1>"
   ]
  },
  {
   "cell_type": "markdown",
   "metadata": {},
   "source": [
    "# Table of contents\n",
    "\n",
    "- <a href='#1'>Context </a> \n",
    "- <a href='#2'>Problem Statement </a> \n",
    "- <a href='#3'>Approach </a> \n",
    "- <a href='#4'>Data Exploration </a> \n",
    "- <a href='#5'>Data Preparation </a> \n",
    "- <a href='#6'>Modeling </a>\n",
    "- <a href='#7'>Evaluation </a> \n",
    "- <a href='#8'>Text Generation</a> \n",
    "- <a href='#9'>Conclusion </a>\n",
    "- <a href='#10'>References </a>"
   ]
  },
  {
   "cell_type": "markdown",
   "metadata": {
    "id": "u-UvjLfItLRn"
   },
   "source": [
    "\n",
    "# <a id='1'>Context<a>\n"
   ]
  },
  {
   "cell_type": "markdown",
   "metadata": {
    "id": "RJkRpXe4tQ21"
   },
   "source": [
    "As the availability of data and compute resources drive Deep Learning further than before, there is now a focus of using AI in more creative domains. One of these is to try and build systems to automatically generate prose, poems and lyrics. There is strong commercial scope as well. AI generated music and music videos are being used to augment record label portfolios. The objective is to tell an AI what is needed for a specific project - for example a background score for a particular scene in a movie and have the AI \"compose\" multiple options for us quickly.\n",
    "\n",
    "I work for one such record label, which is focused on using AI powered systems for creative endeavours. Recently, I was tasked with building an initial pipeline to test the scope of lyric generation using NLP. If promising, further resources will be allocated by the label to produce a SOTA system which will then be used along with similar music generation software. Though music can be a very subjective topic, needless to say, the first label to churn out \"good\" music developed using AI will see major commercial returns.\n"
   ]
  },
  {
   "cell_type": "markdown",
   "metadata": {
    "id": "GdadplFZxnXH"
   },
   "source": [
    "\n",
    "# <a id='2'>Problem Statement <a>\n"
   ]
  },
  {
   "cell_type": "markdown",
   "metadata": {
    "id": "8E-rdzWXxqEV"
   },
   "source": [
    "\n",
    "The task at hand is to use existing lyrics as a base for teaching an ML model how to generate lyrics. Once trained, the model should be able to produce coherent lyrics based on an initial prompt. Let us try to break this problem into its simples form.\n",
    "\n",
    "If we are given an input to seed from, we need to predict which word needs to follow this seed text. Assuming we make a good prediction, we can simply used the original text, plus the predicted word as the seed text to get the next prediction. This process can be repeated until our required number of words is reached.\n",
    "\n",
    "In essence, we are dealing with a next-word prediction problem, where our current state is the text we have already generated so far.\n",
    "\n",
    "Typically text carries contextual information through the order in which words are combined to form this text. Something like this is a good candidate for a Recurrent Neural Network (like LSTM) which uses sequences to form states, which can help predicting the next unit in a sequence."
   ]
  },
  {
   "cell_type": "markdown",
   "metadata": {
    "id": "Xr70qdruz7x6"
   },
   "source": [
    "\n",
    "# <a id='3'>Approach<a>\n"
   ]
  },
  {
   "cell_type": "markdown",
   "metadata": {
    "id": "xMI3SY660CWt"
   },
   "source": [
    "### Limitations\n",
    "- We have limited turnaround time to check viability\n",
    "- We also have limited compute resources\n",
    "- The aim of this pipeline is not to be SOTA, but to prove the viability of an ML based solution\n",
    "\n",
    "### Data\n",
    "Though it is easy to get access to lyrics for millions of songs thanks to the internet, for this pilot effort, we will start small. Deep learning models are known to benefit from increasing amounts of data, so if we can build something even moderately viable using a small corpus, we can definitely improve on it in subsequent phases.\n",
    "\n",
    "Thus, we will use a small sample from a dataset sourced from Kaggle (https://www.kaggle.com/datasets/karnikakapoor/lyrics).\n",
    "\n",
    "For ease of use, I have also hosted this data on a Github repo. Let us get started!"
   ]
  },
  {
   "cell_type": "markdown",
   "metadata": {
    "id": "4qBwMWwT0Bhl"
   },
   "source": [
    "\n",
    "# <a id='4'>Data Exploration<a>\n"
   ]
  },
  {
   "cell_type": "markdown",
   "metadata": {
    "id": "ES-Ry6XH1_6E"
   },
   "source": [
    "Let us load the data using Github and begin exploring it.\n",
    "\n",
    "We will begin by importing the basic libraries for data loading and exploration. \n",
    "\n",
    "\n",
    "***Please note that we will only be importing libraries in the cells just before they are needed. This is a personal choice, but I find it much more helpful to have relecant imports within sight of the cells I am working on.***"
   ]
  },
  {
   "cell_type": "code",
   "execution_count": 89,
   "metadata": {
    "id": "40qDYw2nvLvL"
   },
   "outputs": [],
   "source": [
    "# Suppress warnings\n",
    "import warnings\n",
    "import os\n",
    "warnings.filterwarnings('ignore')\n",
    "os.environ['TF_CPP_MIN_LOG_LEVEL'] = '2'\n",
    "%matplotlib inline\n",
    "\n",
    "\n",
    "# Dataset handling and exploration\n",
    "import pandas as pd\n",
    "import numpy as  np\n",
    "import matplotlib.pyplot as plt\n",
    "import seaborn as sns\n"
   ]
  },
  {
   "cell_type": "code",
   "execution_count": 62,
   "metadata": {
    "colab": {
     "base_uri": "https://localhost:8080/",
     "height": 206
    },
    "id": "qnO1JMpapdcv",
    "outputId": "8c080ba3-b13e-458b-c289-7682f2683552"
   },
   "outputs": [
    {
     "data": {
      "text/html": [
       "\n",
       "  <div id=\"df-056b3e33-44a5-45a2-9f06-a472c98acdcc\">\n",
       "    <div class=\"colab-df-container\">\n",
       "      <div>\n",
       "<style scoped>\n",
       "    .dataframe tbody tr th:only-of-type {\n",
       "        vertical-align: middle;\n",
       "    }\n",
       "\n",
       "    .dataframe tbody tr th {\n",
       "        vertical-align: top;\n",
       "    }\n",
       "\n",
       "    .dataframe thead th {\n",
       "        text-align: right;\n",
       "    }\n",
       "</style>\n",
       "<table border=\"1\" class=\"dataframe\">\n",
       "  <thead>\n",
       "    <tr style=\"text-align: right;\">\n",
       "      <th></th>\n",
       "      <th>Artist</th>\n",
       "      <th>Title</th>\n",
       "      <th>Lyrics</th>\n",
       "    </tr>\n",
       "  </thead>\n",
       "  <tbody>\n",
       "    <tr>\n",
       "      <th>0</th>\n",
       "      <td>Taylor Swift</td>\n",
       "      <td>cardigan</td>\n",
       "      <td>Vintage tee, brand new phone\\nHigh heels on co...</td>\n",
       "    </tr>\n",
       "    <tr>\n",
       "      <th>1</th>\n",
       "      <td>Taylor Swift</td>\n",
       "      <td>exile</td>\n",
       "      <td>I can see you standing, honey\\nWith his arms a...</td>\n",
       "    </tr>\n",
       "    <tr>\n",
       "      <th>2</th>\n",
       "      <td>Taylor Swift</td>\n",
       "      <td>Lover</td>\n",
       "      <td>We could leave the Christmas lights up 'til Ja...</td>\n",
       "    </tr>\n",
       "    <tr>\n",
       "      <th>3</th>\n",
       "      <td>Taylor Swift</td>\n",
       "      <td>the 1</td>\n",
       "      <td>I'm doing good, I'm on some new shit\\nBeen say...</td>\n",
       "    </tr>\n",
       "    <tr>\n",
       "      <th>4</th>\n",
       "      <td>Taylor Swift</td>\n",
       "      <td>Look What You Made Me Do</td>\n",
       "      <td>I don't like your little games\\nDon't like you...</td>\n",
       "    </tr>\n",
       "  </tbody>\n",
       "</table>\n",
       "</div>\n",
       "      <button class=\"colab-df-convert\" onclick=\"convertToInteractive('df-056b3e33-44a5-45a2-9f06-a472c98acdcc')\"\n",
       "              title=\"Convert this dataframe to an interactive table.\"\n",
       "              style=\"display:none;\">\n",
       "        \n",
       "  <svg xmlns=\"http://www.w3.org/2000/svg\" height=\"24px\"viewBox=\"0 0 24 24\"\n",
       "       width=\"24px\">\n",
       "    <path d=\"M0 0h24v24H0V0z\" fill=\"none\"/>\n",
       "    <path d=\"M18.56 5.44l.94 2.06.94-2.06 2.06-.94-2.06-.94-.94-2.06-.94 2.06-2.06.94zm-11 1L8.5 8.5l.94-2.06 2.06-.94-2.06-.94L8.5 2.5l-.94 2.06-2.06.94zm10 10l.94 2.06.94-2.06 2.06-.94-2.06-.94-.94-2.06-.94 2.06-2.06.94z\"/><path d=\"M17.41 7.96l-1.37-1.37c-.4-.4-.92-.59-1.43-.59-.52 0-1.04.2-1.43.59L10.3 9.45l-7.72 7.72c-.78.78-.78 2.05 0 2.83L4 21.41c.39.39.9.59 1.41.59.51 0 1.02-.2 1.41-.59l7.78-7.78 2.81-2.81c.8-.78.8-2.07 0-2.86zM5.41 20L4 18.59l7.72-7.72 1.47 1.35L5.41 20z\"/>\n",
       "  </svg>\n",
       "      </button>\n",
       "      \n",
       "  <style>\n",
       "    .colab-df-container {\n",
       "      display:flex;\n",
       "      flex-wrap:wrap;\n",
       "      gap: 12px;\n",
       "    }\n",
       "\n",
       "    .colab-df-convert {\n",
       "      background-color: #E8F0FE;\n",
       "      border: none;\n",
       "      border-radius: 50%;\n",
       "      cursor: pointer;\n",
       "      display: none;\n",
       "      fill: #1967D2;\n",
       "      height: 32px;\n",
       "      padding: 0 0 0 0;\n",
       "      width: 32px;\n",
       "    }\n",
       "\n",
       "    .colab-df-convert:hover {\n",
       "      background-color: #E2EBFA;\n",
       "      box-shadow: 0px 1px 2px rgba(60, 64, 67, 0.3), 0px 1px 3px 1px rgba(60, 64, 67, 0.15);\n",
       "      fill: #174EA6;\n",
       "    }\n",
       "\n",
       "    [theme=dark] .colab-df-convert {\n",
       "      background-color: #3B4455;\n",
       "      fill: #D2E3FC;\n",
       "    }\n",
       "\n",
       "    [theme=dark] .colab-df-convert:hover {\n",
       "      background-color: #434B5C;\n",
       "      box-shadow: 0px 1px 3px 1px rgba(0, 0, 0, 0.15);\n",
       "      filter: drop-shadow(0px 1px 2px rgba(0, 0, 0, 0.3));\n",
       "      fill: #FFFFFF;\n",
       "    }\n",
       "  </style>\n",
       "\n",
       "      <script>\n",
       "        const buttonEl =\n",
       "          document.querySelector('#df-056b3e33-44a5-45a2-9f06-a472c98acdcc button.colab-df-convert');\n",
       "        buttonEl.style.display =\n",
       "          google.colab.kernel.accessAllowed ? 'block' : 'none';\n",
       "\n",
       "        async function convertToInteractive(key) {\n",
       "          const element = document.querySelector('#df-056b3e33-44a5-45a2-9f06-a472c98acdcc');\n",
       "          const dataTable =\n",
       "            await google.colab.kernel.invokeFunction('convertToInteractive',\n",
       "                                                     [key], {});\n",
       "          if (!dataTable) return;\n",
       "\n",
       "          const docLinkHtml = 'Like what you see? Visit the ' +\n",
       "            '<a target=\"_blank\" href=https://colab.research.google.com/notebooks/data_table.ipynb>data table notebook</a>'\n",
       "            + ' to learn more about interactive tables.';\n",
       "          element.innerHTML = '';\n",
       "          dataTable['output_type'] = 'display_data';\n",
       "          await google.colab.output.renderOutput(dataTable, element);\n",
       "          const docLink = document.createElement('div');\n",
       "          docLink.innerHTML = docLinkHtml;\n",
       "          element.appendChild(docLink);\n",
       "        }\n",
       "      </script>\n",
       "    </div>\n",
       "  </div>\n",
       "  "
      ],
      "text/plain": [
       "         Artist                     Title  \\\n",
       "0  Taylor Swift                  cardigan   \n",
       "1  Taylor Swift                     exile   \n",
       "2  Taylor Swift                     Lover   \n",
       "3  Taylor Swift                     the 1   \n",
       "4  Taylor Swift  Look What You Made Me Do   \n",
       "\n",
       "                                              Lyrics  \n",
       "0  Vintage tee, brand new phone\\nHigh heels on co...  \n",
       "1  I can see you standing, honey\\nWith his arms a...  \n",
       "2  We could leave the Christmas lights up 'til Ja...  \n",
       "3  I'm doing good, I'm on some new shit\\nBeen say...  \n",
       "4  I don't like your little games\\nDon't like you...  "
      ]
     },
     "execution_count": 62,
     "metadata": {},
     "output_type": "execute_result"
    }
   ],
   "source": [
    "data_url = r'https://raw.githubusercontent.com/FzQureshi/Datasets/main/Songs.csv'\n",
    "all_lyrics = pd.read_csv(data_url)\n",
    "all_lyrics.head()"
   ]
  },
  {
   "cell_type": "code",
   "execution_count": 63,
   "metadata": {
    "colab": {
     "base_uri": "https://localhost:8080/",
     "height": 175
    },
    "id": "OlpYhE5K5hQg",
    "outputId": "6cf47e96-0c71-47c5-c09e-679486360fa2"
   },
   "outputs": [
    {
     "data": {
      "text/html": [
       "\n",
       "  <div id=\"df-406382a5-6c48-4fcb-a009-5acb6709913d\">\n",
       "    <div class=\"colab-df-container\">\n",
       "      <div>\n",
       "<style scoped>\n",
       "    .dataframe tbody tr th:only-of-type {\n",
       "        vertical-align: middle;\n",
       "    }\n",
       "\n",
       "    .dataframe tbody tr th {\n",
       "        vertical-align: top;\n",
       "    }\n",
       "\n",
       "    .dataframe thead th {\n",
       "        text-align: right;\n",
       "    }\n",
       "</style>\n",
       "<table border=\"1\" class=\"dataframe\">\n",
       "  <thead>\n",
       "    <tr style=\"text-align: right;\">\n",
       "      <th></th>\n",
       "      <th>Artist</th>\n",
       "      <th>Title</th>\n",
       "      <th>Lyrics</th>\n",
       "    </tr>\n",
       "  </thead>\n",
       "  <tbody>\n",
       "    <tr>\n",
       "      <th>count</th>\n",
       "      <td>745</td>\n",
       "      <td>745</td>\n",
       "      <td>745</td>\n",
       "    </tr>\n",
       "    <tr>\n",
       "      <th>unique</th>\n",
       "      <td>21</td>\n",
       "      <td>742</td>\n",
       "      <td>745</td>\n",
       "    </tr>\n",
       "    <tr>\n",
       "      <th>top</th>\n",
       "      <td>Taylor Swift</td>\n",
       "      <td>Autumn Leaves</td>\n",
       "      <td>Vintage tee, brand new phone\\nHigh heels on co...</td>\n",
       "    </tr>\n",
       "    <tr>\n",
       "      <th>freq</th>\n",
       "      <td>50</td>\n",
       "      <td>3</td>\n",
       "      <td>1</td>\n",
       "    </tr>\n",
       "  </tbody>\n",
       "</table>\n",
       "</div>\n",
       "      <button class=\"colab-df-convert\" onclick=\"convertToInteractive('df-406382a5-6c48-4fcb-a009-5acb6709913d')\"\n",
       "              title=\"Convert this dataframe to an interactive table.\"\n",
       "              style=\"display:none;\">\n",
       "        \n",
       "  <svg xmlns=\"http://www.w3.org/2000/svg\" height=\"24px\"viewBox=\"0 0 24 24\"\n",
       "       width=\"24px\">\n",
       "    <path d=\"M0 0h24v24H0V0z\" fill=\"none\"/>\n",
       "    <path d=\"M18.56 5.44l.94 2.06.94-2.06 2.06-.94-2.06-.94-.94-2.06-.94 2.06-2.06.94zm-11 1L8.5 8.5l.94-2.06 2.06-.94-2.06-.94L8.5 2.5l-.94 2.06-2.06.94zm10 10l.94 2.06.94-2.06 2.06-.94-2.06-.94-.94-2.06-.94 2.06-2.06.94z\"/><path d=\"M17.41 7.96l-1.37-1.37c-.4-.4-.92-.59-1.43-.59-.52 0-1.04.2-1.43.59L10.3 9.45l-7.72 7.72c-.78.78-.78 2.05 0 2.83L4 21.41c.39.39.9.59 1.41.59.51 0 1.02-.2 1.41-.59l7.78-7.78 2.81-2.81c.8-.78.8-2.07 0-2.86zM5.41 20L4 18.59l7.72-7.72 1.47 1.35L5.41 20z\"/>\n",
       "  </svg>\n",
       "      </button>\n",
       "      \n",
       "  <style>\n",
       "    .colab-df-container {\n",
       "      display:flex;\n",
       "      flex-wrap:wrap;\n",
       "      gap: 12px;\n",
       "    }\n",
       "\n",
       "    .colab-df-convert {\n",
       "      background-color: #E8F0FE;\n",
       "      border: none;\n",
       "      border-radius: 50%;\n",
       "      cursor: pointer;\n",
       "      display: none;\n",
       "      fill: #1967D2;\n",
       "      height: 32px;\n",
       "      padding: 0 0 0 0;\n",
       "      width: 32px;\n",
       "    }\n",
       "\n",
       "    .colab-df-convert:hover {\n",
       "      background-color: #E2EBFA;\n",
       "      box-shadow: 0px 1px 2px rgba(60, 64, 67, 0.3), 0px 1px 3px 1px rgba(60, 64, 67, 0.15);\n",
       "      fill: #174EA6;\n",
       "    }\n",
       "\n",
       "    [theme=dark] .colab-df-convert {\n",
       "      background-color: #3B4455;\n",
       "      fill: #D2E3FC;\n",
       "    }\n",
       "\n",
       "    [theme=dark] .colab-df-convert:hover {\n",
       "      background-color: #434B5C;\n",
       "      box-shadow: 0px 1px 3px 1px rgba(0, 0, 0, 0.15);\n",
       "      filter: drop-shadow(0px 1px 2px rgba(0, 0, 0, 0.3));\n",
       "      fill: #FFFFFF;\n",
       "    }\n",
       "  </style>\n",
       "\n",
       "      <script>\n",
       "        const buttonEl =\n",
       "          document.querySelector('#df-406382a5-6c48-4fcb-a009-5acb6709913d button.colab-df-convert');\n",
       "        buttonEl.style.display =\n",
       "          google.colab.kernel.accessAllowed ? 'block' : 'none';\n",
       "\n",
       "        async function convertToInteractive(key) {\n",
       "          const element = document.querySelector('#df-406382a5-6c48-4fcb-a009-5acb6709913d');\n",
       "          const dataTable =\n",
       "            await google.colab.kernel.invokeFunction('convertToInteractive',\n",
       "                                                     [key], {});\n",
       "          if (!dataTable) return;\n",
       "\n",
       "          const docLinkHtml = 'Like what you see? Visit the ' +\n",
       "            '<a target=\"_blank\" href=https://colab.research.google.com/notebooks/data_table.ipynb>data table notebook</a>'\n",
       "            + ' to learn more about interactive tables.';\n",
       "          element.innerHTML = '';\n",
       "          dataTable['output_type'] = 'display_data';\n",
       "          await google.colab.output.renderOutput(dataTable, element);\n",
       "          const docLink = document.createElement('div');\n",
       "          docLink.innerHTML = docLinkHtml;\n",
       "          element.appendChild(docLink);\n",
       "        }\n",
       "      </script>\n",
       "    </div>\n",
       "  </div>\n",
       "  "
      ],
      "text/plain": [
       "              Artist          Title  \\\n",
       "count            745            745   \n",
       "unique            21            742   \n",
       "top     Taylor Swift  Autumn Leaves   \n",
       "freq              50              3   \n",
       "\n",
       "                                                   Lyrics  \n",
       "count                                                 745  \n",
       "unique                                                745  \n",
       "top     Vintage tee, brand new phone\\nHigh heels on co...  \n",
       "freq                                                    1  "
      ]
     },
     "execution_count": 63,
     "metadata": {},
     "output_type": "execute_result"
    }
   ],
   "source": [
    "all_lyrics.describe()"
   ]
  },
  {
   "cell_type": "code",
   "execution_count": 64,
   "metadata": {
    "colab": {
     "base_uri": "https://localhost:8080/"
    },
    "id": "j5zKwHir5wU_",
    "outputId": "ab963bae-72ef-4f24-ba11-e1f74c794b9d"
   },
   "outputs": [
    {
     "name": "stdout",
     "output_type": "stream",
     "text": [
      "<class 'pandas.core.frame.DataFrame'>\n",
      "RangeIndex: 745 entries, 0 to 744\n",
      "Data columns (total 3 columns):\n",
      " #   Column  Non-Null Count  Dtype \n",
      "---  ------  --------------  ----- \n",
      " 0   Artist  745 non-null    object\n",
      " 1   Title   745 non-null    object\n",
      " 2   Lyrics  745 non-null    object\n",
      "dtypes: object(3)\n",
      "memory usage: 17.6+ KB\n"
     ]
    }
   ],
   "source": [
    "all_lyrics.info()"
   ]
  },
  {
   "cell_type": "markdown",
   "metadata": {
    "id": "f8gfIvrr2N6w"
   },
   "source": [
    "The data is quite simple. We only have 745 rows and 3 columns (Artist, Title and Lyrics of the song). Let us check which Artists are included."
   ]
  },
  {
   "cell_type": "code",
   "execution_count": 65,
   "metadata": {
    "colab": {
     "base_uri": "https://localhost:8080/"
    },
    "id": "mZ7IgwCO6_AK",
    "outputId": "bbbbedf0-c9ab-41b7-ce26-f70b5c7740e4"
   },
   "outputs": [
    {
     "data": {
      "text/plain": [
       "Taylor Swift          50\n",
       "David Bowie           50\n",
       "Billy Joel            50\n",
       "Eric Clapton          50\n",
       "Billie Eilish         50\n",
       "Leonard Cohen         50\n",
       "Bruce Springsteen     40\n",
       "The Beatles           35\n",
       "Ray LaMontagne        30\n",
       "Elton John            30\n",
       "Queen                 30\n",
       "Frank Sinatra         30\n",
       "John Denver           30\n",
       "Bryan Adams           30\n",
       "​twenty one pilots    30\n",
       "Nat King Cole         30\n",
       "Lana Del Rey          30\n",
       "Vance Joy             30\n",
       "George Michael        30\n",
       "Bob Dylan             20\n",
       "Ed Sheeran            20\n",
       "Name: Artist, dtype: int64"
      ]
     },
     "execution_count": 65,
     "metadata": {},
     "output_type": "execute_result"
    }
   ],
   "source": [
    "all_lyrics['Artist'].value_counts()"
   ]
  },
  {
   "cell_type": "markdown",
   "metadata": {
    "id": "8NUwaSdK2j4F"
   },
   "source": [
    "As seen, there are 21 unique artists with 20 to 50 songs each. \n",
    "\n",
    "We are most interested in the lyrics column, so let us explore that further."
   ]
  },
  {
   "cell_type": "code",
   "execution_count": 66,
   "metadata": {
    "colab": {
     "base_uri": "https://localhost:8080/",
     "height": 300
    },
    "id": "LEeg6o_V3rct",
    "outputId": "99d0bb23-f73c-4101-f19f-279584bf397b"
   },
   "outputs": [
    {
     "data": {
      "text/html": [
       "\n",
       "  <div id=\"df-8517dacd-4025-4bd1-a7ac-0c5484bf9296\">\n",
       "    <div class=\"colab-df-container\">\n",
       "      <div>\n",
       "<style scoped>\n",
       "    .dataframe tbody tr th:only-of-type {\n",
       "        vertical-align: middle;\n",
       "    }\n",
       "\n",
       "    .dataframe tbody tr th {\n",
       "        vertical-align: top;\n",
       "    }\n",
       "\n",
       "    .dataframe thead th {\n",
       "        text-align: right;\n",
       "    }\n",
       "</style>\n",
       "<table border=\"1\" class=\"dataframe\">\n",
       "  <thead>\n",
       "    <tr style=\"text-align: right;\">\n",
       "      <th></th>\n",
       "      <th>num_chars</th>\n",
       "      <th>num_words</th>\n",
       "      <th>num_lines</th>\n",
       "    </tr>\n",
       "  </thead>\n",
       "  <tbody>\n",
       "    <tr>\n",
       "      <th>count</th>\n",
       "      <td>745.000000</td>\n",
       "      <td>745.000000</td>\n",
       "      <td>745.000000</td>\n",
       "    </tr>\n",
       "    <tr>\n",
       "      <th>mean</th>\n",
       "      <td>1403.347651</td>\n",
       "      <td>235.240268</td>\n",
       "      <td>46.277852</td>\n",
       "    </tr>\n",
       "    <tr>\n",
       "      <th>std</th>\n",
       "      <td>666.721467</td>\n",
       "      <td>112.549344</td>\n",
       "      <td>21.180531</td>\n",
       "    </tr>\n",
       "    <tr>\n",
       "      <th>min</th>\n",
       "      <td>1.000000</td>\n",
       "      <td>1.000000</td>\n",
       "      <td>1.000000</td>\n",
       "    </tr>\n",
       "    <tr>\n",
       "      <th>25%</th>\n",
       "      <td>946.000000</td>\n",
       "      <td>159.000000</td>\n",
       "      <td>33.000000</td>\n",
       "    </tr>\n",
       "    <tr>\n",
       "      <th>50%</th>\n",
       "      <td>1289.000000</td>\n",
       "      <td>216.000000</td>\n",
       "      <td>44.000000</td>\n",
       "    </tr>\n",
       "    <tr>\n",
       "      <th>75%</th>\n",
       "      <td>1714.000000</td>\n",
       "      <td>288.000000</td>\n",
       "      <td>56.000000</td>\n",
       "    </tr>\n",
       "    <tr>\n",
       "      <th>max</th>\n",
       "      <td>7267.000000</td>\n",
       "      <td>1219.000000</td>\n",
       "      <td>224.000000</td>\n",
       "    </tr>\n",
       "  </tbody>\n",
       "</table>\n",
       "</div>\n",
       "      <button class=\"colab-df-convert\" onclick=\"convertToInteractive('df-8517dacd-4025-4bd1-a7ac-0c5484bf9296')\"\n",
       "              title=\"Convert this dataframe to an interactive table.\"\n",
       "              style=\"display:none;\">\n",
       "        \n",
       "  <svg xmlns=\"http://www.w3.org/2000/svg\" height=\"24px\"viewBox=\"0 0 24 24\"\n",
       "       width=\"24px\">\n",
       "    <path d=\"M0 0h24v24H0V0z\" fill=\"none\"/>\n",
       "    <path d=\"M18.56 5.44l.94 2.06.94-2.06 2.06-.94-2.06-.94-.94-2.06-.94 2.06-2.06.94zm-11 1L8.5 8.5l.94-2.06 2.06-.94-2.06-.94L8.5 2.5l-.94 2.06-2.06.94zm10 10l.94 2.06.94-2.06 2.06-.94-2.06-.94-.94-2.06-.94 2.06-2.06.94z\"/><path d=\"M17.41 7.96l-1.37-1.37c-.4-.4-.92-.59-1.43-.59-.52 0-1.04.2-1.43.59L10.3 9.45l-7.72 7.72c-.78.78-.78 2.05 0 2.83L4 21.41c.39.39.9.59 1.41.59.51 0 1.02-.2 1.41-.59l7.78-7.78 2.81-2.81c.8-.78.8-2.07 0-2.86zM5.41 20L4 18.59l7.72-7.72 1.47 1.35L5.41 20z\"/>\n",
       "  </svg>\n",
       "      </button>\n",
       "      \n",
       "  <style>\n",
       "    .colab-df-container {\n",
       "      display:flex;\n",
       "      flex-wrap:wrap;\n",
       "      gap: 12px;\n",
       "    }\n",
       "\n",
       "    .colab-df-convert {\n",
       "      background-color: #E8F0FE;\n",
       "      border: none;\n",
       "      border-radius: 50%;\n",
       "      cursor: pointer;\n",
       "      display: none;\n",
       "      fill: #1967D2;\n",
       "      height: 32px;\n",
       "      padding: 0 0 0 0;\n",
       "      width: 32px;\n",
       "    }\n",
       "\n",
       "    .colab-df-convert:hover {\n",
       "      background-color: #E2EBFA;\n",
       "      box-shadow: 0px 1px 2px rgba(60, 64, 67, 0.3), 0px 1px 3px 1px rgba(60, 64, 67, 0.15);\n",
       "      fill: #174EA6;\n",
       "    }\n",
       "\n",
       "    [theme=dark] .colab-df-convert {\n",
       "      background-color: #3B4455;\n",
       "      fill: #D2E3FC;\n",
       "    }\n",
       "\n",
       "    [theme=dark] .colab-df-convert:hover {\n",
       "      background-color: #434B5C;\n",
       "      box-shadow: 0px 1px 3px 1px rgba(0, 0, 0, 0.15);\n",
       "      filter: drop-shadow(0px 1px 2px rgba(0, 0, 0, 0.3));\n",
       "      fill: #FFFFFF;\n",
       "    }\n",
       "  </style>\n",
       "\n",
       "      <script>\n",
       "        const buttonEl =\n",
       "          document.querySelector('#df-8517dacd-4025-4bd1-a7ac-0c5484bf9296 button.colab-df-convert');\n",
       "        buttonEl.style.display =\n",
       "          google.colab.kernel.accessAllowed ? 'block' : 'none';\n",
       "\n",
       "        async function convertToInteractive(key) {\n",
       "          const element = document.querySelector('#df-8517dacd-4025-4bd1-a7ac-0c5484bf9296');\n",
       "          const dataTable =\n",
       "            await google.colab.kernel.invokeFunction('convertToInteractive',\n",
       "                                                     [key], {});\n",
       "          if (!dataTable) return;\n",
       "\n",
       "          const docLinkHtml = 'Like what you see? Visit the ' +\n",
       "            '<a target=\"_blank\" href=https://colab.research.google.com/notebooks/data_table.ipynb>data table notebook</a>'\n",
       "            + ' to learn more about interactive tables.';\n",
       "          element.innerHTML = '';\n",
       "          dataTable['output_type'] = 'display_data';\n",
       "          await google.colab.output.renderOutput(dataTable, element);\n",
       "          const docLink = document.createElement('div');\n",
       "          docLink.innerHTML = docLinkHtml;\n",
       "          element.appendChild(docLink);\n",
       "        }\n",
       "      </script>\n",
       "    </div>\n",
       "  </div>\n",
       "  "
      ],
      "text/plain": [
       "         num_chars    num_words   num_lines\n",
       "count   745.000000   745.000000  745.000000\n",
       "mean   1403.347651   235.240268   46.277852\n",
       "std     666.721467   112.549344   21.180531\n",
       "min       1.000000     1.000000    1.000000\n",
       "25%     946.000000   159.000000   33.000000\n",
       "50%    1289.000000   216.000000   44.000000\n",
       "75%    1714.000000   288.000000   56.000000\n",
       "max    7267.000000  1219.000000  224.000000"
      ]
     },
     "execution_count": 66,
     "metadata": {},
     "output_type": "execute_result"
    }
   ],
   "source": [
    "# Add info for numf of chars, words and lines in each song\n",
    "all_lyrics[\"num_chars\"] = all_lyrics[\"Lyrics\"].apply(len)\n",
    "all_lyrics[\"num_words\"] = all_lyrics.apply(lambda row: row[\"Lyrics\"].split(\" \"), axis=1).apply(len)\n",
    "all_lyrics[\"num_lines\"] = all_lyrics[\"Lyrics\"].str.split('\\n').apply(len)\n",
    "all_lyrics.describe()"
   ]
  },
  {
   "cell_type": "markdown",
   "metadata": {
    "id": "EhnoKS0s4WHk"
   },
   "source": [
    "The average song in the corpus has about 1400 chars, 235 words and 46 lines. Let us break it down by artists."
   ]
  },
  {
   "cell_type": "code",
   "execution_count": 67,
   "metadata": {
    "colab": {
     "base_uri": "https://localhost:8080/",
     "height": 577
    },
    "id": "6nOB5AkO41CV",
    "outputId": "8a882311-572d-4238-d69d-1f48f101f017"
   },
   "outputs": [
    {
     "data": {
      "text/plain": [
       "<matplotlib.axes._subplots.AxesSubplot at 0x7f6f51872690>"
      ]
     },
     "execution_count": 67,
     "metadata": {},
     "output_type": "execute_result"
    },
    {
     "data": {
      "image/png": "[encoded data removed]",
      "text/plain": [
       "<Figure size 1296x576 with 1 Axes>"
      ]
     },
     "metadata": {
      "needs_background": "light"
     },
     "output_type": "display_data"
    }
   ],
   "source": [
    "# Get avg lyric lengths\n",
    "avg_lengths = all_lyrics.groupby('Artist').mean().sort_values(by='num_chars', ascending=False)\n",
    "\n",
    "\n",
    "# Normalize\n",
    "for col in avg_lengths.columns:\n",
    "    avg_lengths['norm_' + col] = avg_lengths[col]/max(avg_lengths[col])\n",
    "\n",
    "# Plot with rotated labels\n",
    "avg_lengths.plot.bar(y=['norm_num_chars', 'norm_num_words', 'norm_num_lines'],\n",
    "                     figsize=(18, 8), rot=45)"
   ]
  },
  {
   "cell_type": "markdown",
   "metadata": {
    "id": "7CWuUEjONFLM"
   },
   "source": [
    "From this, we can see that Bob Dylan has the longest lyrics by every measure. He's followed by Ed Sheeran. Nat King Cole and Eric Clapton are on the other side of the spectrum. This is intuitive too, since Dylan and Sheeran are primarily vocalists while Clapton and Cole are known for their guitar and piano performances respectively.\n",
    "\n",
    "This also tells us that there is substantial variance in the length of different artists lyrics.\n",
    "\n",
    "Let us also look at number of unique words for each artist.\n"
   ]
  },
  {
   "cell_type": "code",
   "execution_count": 68,
   "metadata": {
    "colab": {
     "base_uri": "https://localhost:8080/",
     "height": 672
    },
    "id": "7z58m0NeO_F7",
    "outputId": "4e2535ed-0506-4e27-db10-2978fb74797f"
   },
   "outputs": [
    {
     "data": {
      "text/plain": [
       "<function matplotlib.pyplot.show>"
      ]
     },
     "execution_count": 68,
     "metadata": {},
     "output_type": "execute_result"
    },
    {
     "data": {
      "image/png": "[encoded data removed]",
      "text/plain": [
       "<Figure size 1440x720 with 1 Axes>"
      ]
     },
     "metadata": {
      "needs_background": "light"
     },
     "output_type": "display_data"
    }
   ],
   "source": [
    "vocab_cnt = {}\n",
    "\n",
    "for artist in all_lyrics['Artist'].unique():\n",
    "    all_words = ' '.join(all_lyrics[all_lyrics['Artist']==artist]['Lyrics'])\n",
    "    vocab_cnt[artist] = len(set(all_words.split(' ')))\n",
    "\n",
    "vocab_cnt = dict(sorted(vocab_cnt.items(), key=lambda vocab_cnt: vocab_cnt[1]))\n",
    "\n",
    "plt.rcParams[\"figure.figsize\"] = (20,10)\n",
    "plt.bar(range(len(vocab_cnt)), list(vocab_cnt.values()),\n",
    "        align='center', width=0.5)\n",
    "plt.xticks(range(len(vocab_cnt)), list(vocab_cnt.keys()), rotation=45)\n",
    "\n",
    "plt.show"
   ]
  },
  {
   "cell_type": "markdown",
   "metadata": {
    "id": "AFSMkFMTO-D8"
   },
   "source": [
    "In the data that we are using, the artists vocabulary size varies from 1200 to almost 4000.\n",
    "\n",
    "Since we can see that each artist will have their own unique vocabulary and style, let us use this pipeline to model each artist separately.\n",
    "\n",
    "For simplicity, we will pick Ed Sheeran and Lana Del Rey as two of our choices. Reasons for picking these two is:\n",
    "- Both have similarly high number of words per song\n",
    "- Both have a moderate vocabulary size in this data\n",
    "- This way, we can control variability due to these factors"
   ]
  },
  {
   "cell_type": "markdown",
   "metadata": {
    "id": "dPSz-8bvVSdH"
   },
   "source": [
    "\n",
    "# <a id='5'>Data Preparation<a>\n"
   ]
  },
  {
   "cell_type": "markdown",
   "metadata": {
    "id": "oyVyZJi7VqnH"
   },
   "source": [
    "Since this is a text generation task, there is no exlpicit validation that we can perform. The way to validate our models will be to look at training accuracy and of course judging the coherence and style of the generated texts. As such, there is no need to split the data -  we will use the entire corpus."
   ]
  },
  {
   "cell_type": "code",
   "execution_count": 69,
   "metadata": {
    "id": "GzDaVjuQ5t4I"
   },
   "outputs": [],
   "source": [
    "artists = ['Ed Sheeran', 'Lana Del Rey']\n",
    "#artists = ['Billie Eilish', 'Taylor Swift']\n",
    "\n",
    "masks = []\n",
    "for artist in artists:\n",
    "    masks.append(all_lyrics['Artist'] == artist)"
   ]
  },
  {
   "cell_type": "markdown",
   "metadata": {
    "id": "7rGVrXE9DayE"
   },
   "source": [
    "We will filter down each artists lyrics into individual corpora."
   ]
  },
  {
   "cell_type": "code",
   "execution_count": 70,
   "metadata": {
    "id": "JtaTfw-3vXua"
   },
   "outputs": [],
   "source": [
    "# Using only a sample of the data to demonstrate concept\n",
    "# This is due to server and compute power limitations\n",
    "\n",
    "corpora = []\n",
    "for mask in masks:\n",
    "    corpus = '\\n'.join(all_lyrics[mask]['Lyrics'])\n",
    "    corpora.append(corpus)"
   ]
  },
  {
   "cell_type": "markdown",
   "metadata": {
    "id": "bY5Ww0lGWqKI"
   },
   "source": [
    "Sample of the merged Ed Sheeran corpus:"
   ]
  },
  {
   "cell_type": "code",
   "execution_count": 71,
   "metadata": {
    "colab": {
     "base_uri": "https://localhost:8080/",
     "height": 53
    },
    "id": "_1pABdiR9nGW",
    "outputId": "db00ff54-8414-433c-a567-5a899dbbe549"
   },
   "outputs": [
    {
     "data": {
      "application/vnd.google.colaboratory.intrinsic+json": {
       "type": "string"
      },
      "text/plain": [
       "\"The club isn't the best place to find a lover\\nSo the bar is where I go\\nMe and my friends at the table doing shots\\nDrinking fast and then we talk slow\\nAnd you come over and start up a conversation with\""
      ]
     },
     "execution_count": 71,
     "metadata": {},
     "output_type": "execute_result"
    }
   ],
   "source": [
    "corpora[0][:200]"
   ]
  },
  {
   "cell_type": "markdown",
   "metadata": {
    "id": "auhp35QbWu1N"
   },
   "source": [
    "Sample of the merged Lana Del Rey corpus:"
   ]
  },
  {
   "cell_type": "code",
   "execution_count": 72,
   "metadata": {
    "colab": {
     "base_uri": "https://localhost:8080/",
     "height": 53
    },
    "id": "vtymB4Cq9phF",
    "outputId": "25b51252-9116-43f9-8f98-c9146f712fe4"
   },
   "outputs": [
    {
     "data": {
      "application/vnd.google.colaboratory.intrinsic+json": {
       "type": "string"
      },
      "text/plain": [
       "\"I've seen the world, done it all\\nHad my cake now\\nDiamonds, brilliant, and Bel Air now\\nHot summer nights, mid-July\\nWhen you and I were forever wild\\nThe crazy days, city lights\\nThe way you'd play with m\""
      ]
     },
     "execution_count": 72,
     "metadata": {},
     "output_type": "execute_result"
    }
   ],
   "source": [
    "corpora[1][:200]"
   ]
  },
  {
   "cell_type": "markdown",
   "metadata": {
    "id": "Wk2dv8DGW2jj"
   },
   "source": [
    "Now let us clean up the text by removing punctuations and newline characters. Before removing the punctuations, we will capture the distribution of these punctuations for each artists. This might come in handy later."
   ]
  },
  {
   "cell_type": "code",
   "execution_count": 73,
   "metadata": {
    "colab": {
     "base_uri": "https://localhost:8080/"
    },
    "id": "zpKI8G8bvhJ9",
    "outputId": "d49da5f8-7d75-4c42-cfc1-a60fd7c82802"
   },
   "outputs": [
    {
     "name": "stdout",
     "output_type": "stream",
     "text": [
      "corpus[0] has 1065 sentences.\n",
      "corpus[1] has 1635 sentences.\n",
      "\n",
      "Additionally, counts of different punctuations was:\n",
      "{'.': 4, '?': 27, ',': 504, '\"': 52, '(': 54, ')': 54}\n",
      "{'.': 19, '?': 154, ',': 1032, '\"': 88, '(': 223, ')': 223}\n"
     ]
    }
   ],
   "source": [
    "# Remove punctuations, extra spaces and make everything lower case\n",
    "puncs = ['.', '?', ',', '\"', '(', ')']\n",
    "punc_counts = []\n",
    "corpora_cln = []\n",
    "all_sentences = []\n",
    "for corpus in corpora:\n",
    "    corpus_cln = corpus\n",
    "    punc_cnt_dict = {}\n",
    "    for punc in puncs:\n",
    "        #print(f'Counting and replacing {punc}')\n",
    "        punc_cnt_dict[punc] = corpus.count(punc)\n",
    "        corpus_cln = corpus_cln.replace(punc, '')\n",
    "    corpus_cln = corpus_cln.replace('\\n\\n', '\\n')\n",
    "    punc_counts.append(punc_cnt_dict)\n",
    "\n",
    "    corpus_cln = corpus_cln.strip().lower()\n",
    "\n",
    "    # Break down into sentences\n",
    "    all_sentences.append(corpus_cln.split('\\n'))\n",
    "    corpora_cln.append(corpus_cln)\n",
    "\n",
    "print(f'corpus[0] has {len(all_sentences[0])} sentences.')\n",
    "print(f'corpus[1] has {len(all_sentences[1])} sentences.')\n",
    "print(f'\\nAdditionally, counts of different punctuations was:\\n{punc_counts[0]}'\n",
    "      f'\\n{punc_counts[1]}')"
   ]
  },
  {
   "cell_type": "markdown",
   "metadata": {
    "id": "oqehAHxCnyE3"
   },
   "source": [
    "Now let us see what the top 20 words in each corpora are."
   ]
  },
  {
   "cell_type": "code",
   "execution_count": 74,
   "metadata": {
    "colab": {
     "base_uri": "https://localhost:8080/",
     "height": 1000
    },
    "id": "B7jtpiU2oRTu",
    "outputId": "acad9950-97d4-443c-8578-2ef26c226bae"
   },
   "outputs": [
    {
     "data": {
      "image/png": "[encoded data removed]",
      "text/plain": [
       "<Figure size 1440x720 with 1 Axes>"
      ]
     },
     "metadata": {
      "needs_background": "light"
     },
     "output_type": "display_data"
    },
    {
     "name": "stdout",
     "output_type": "stream",
     "text": [
      "Ed Sheeran \n",
      "\n"
     ]
    },
    {
     "data": {
      "image/png": "[encoded data removed]",
      "text/plain": [
       "<Figure size 1440x720 with 1 Axes>"
      ]
     },
     "metadata": {
      "needs_background": "light"
     },
     "output_type": "display_data"
    },
    {
     "name": "stdout",
     "output_type": "stream",
     "text": [
      "Lana Del Rey \n",
      "\n"
     ]
    }
   ],
   "source": [
    "import nltk\n",
    "#nltk.download('punkt')\n",
    "\n",
    "def plot_top_words(text, top_n=20):\n",
    "    tokens = nltk.tokenize.word_tokenize(text)\n",
    "    fd = nltk.FreqDist(tokens)\n",
    "    fd.plot(20, cumulative=False)\n",
    "\n",
    "for corpus, artist in zip(corpora_cln, artists):\n",
    "    plot_top_words(corpus)\n",
    "    print(artist, '\\n')"
   ]
  },
  {
   "cell_type": "markdown",
   "metadata": {
    "id": "uEDTQf7YX60z"
   },
   "source": [
    "These look fairly standard. One thing to note is that the default nltk tokenizer splits contractions like ```don't``` to ```do``` and ```n't```. This is not required in our case. We should use a different tokenizer instead.\n",
    "\n",
    "Now that we have the cleaned text, we need to convert it to numbers to feed to our model. We will do it in 2 steps:\n",
    "- First, we will tokenize our words and map each word to an index. This will be a positive integer. Each word will have a unique token.\n",
    "- When we build our model, we will use an embedding layer to convert these indices to a dense vector. When we train our model, we should be able to get the \"correct\" word embeddings for the words in each artist's vocabulary.\n",
    "\n",
    "\n",
    "For the first step, we will use TensorFlow's ```Tokenizer```"
   ]
  },
  {
   "cell_type": "code",
   "execution_count": 90,
   "metadata": {
    "colab": {
     "base_uri": "https://localhost:8080/"
    },
    "id": "Y15H-GiJvohU",
    "outputId": "bcbde26a-72ad-470b-bbb6-2bf8e874d294"
   },
   "outputs": [
    {
     "name": "stdout",
     "output_type": "stream",
     "text": [
      "The word_index dictionary has been built and looks like this:\n",
      "\n",
      "the \t 1\t\t\ti \t 2\t\t\tand \t 3\t\t\t\n",
      "you \t 4\t\t\tmy \t 5\t\t\tin \t 6\t\t\t\n",
      "me \t 7\t\t\tto \t 8\t\t\ton \t 9\t\t\t\n",
      "a \t 10\t\t\twe \t 11\t\t\tthat \t 12\t\t\t\n",
      "with \t 13\t\t\ti'm \t 14\t\t\tlove \t 15\t\t\t\n"
     ]
    }
   ],
   "source": [
    "# Text preprocessing imports from TF\n",
    "import tensorflow as tf\n",
    "from tensorflow import keras\n",
    "from tensorflow.keras.preprocessing.text import Tokenizer\n",
    "from tensorflow.keras.preprocessing.sequence import pad_sequences\n",
    "\n",
    "\n",
    "tokenizers = []\n",
    "\n",
    "for sentences in all_sentences:\n",
    "    # Initiate Tokenizer using defaults values\n",
    "    tokenizer = Tokenizer()\n",
    "    # Fit Tokenizer on sentences\n",
    "    tokenizer.fit_on_texts(sentences)\n",
    "    tokenizers.append(tokenizer)\n",
    "\n",
    "# print the first ten entries\n",
    "print(\"The word_index dictionary has been built and looks like this:\\n\")\n",
    "for word, idx in tokenizers[0].word_index.items():\n",
    "  print(word, '\\t', idx, end='\\t\\t\\t')\n",
    "  if idx%3 == 0:\n",
    "      print()\n",
    "  if idx == 15:\n",
    "    break"
   ]
  },
  {
   "cell_type": "markdown",
   "metadata": {
    "id": "u0qUxj0rYr-P"
   },
   "source": [
    "The above is based on Ed Sheeran's corpus. Lana Del Rey's will look similar.\n",
    "\n",
    "Let us also check the vocabulary sizes for both corpora."
   ]
  },
  {
   "cell_type": "code",
   "execution_count": 76,
   "metadata": {
    "colab": {
     "base_uri": "https://localhost:8080/"
    },
    "id": "TK1e6Z0N4Zac",
    "outputId": "0efaa84b-b01b-4273-a763-6bbe2facdb1e"
   },
   "outputs": [
    {
     "name": "stdout",
     "output_type": "stream",
     "text": [
      "A vocabulary of [1412, 1553] words was built\n"
     ]
    }
   ],
   "source": [
    "vocab_sizes = []\n",
    "\n",
    "for tokenizer in tokenizers:\n",
    "    # Add 1 to vocab size for the padding token\n",
    "    vocab_sizes.append(len(tokenizer.word_index) + 1)\n",
    "\n",
    "print(f'A vocabulary of {vocab_sizes} words was built')"
   ]
  },
  {
   "cell_type": "markdown",
   "metadata": {
    "id": "gKEE0YxJZITA"
   },
   "source": [
    "Both have a comparable size. Next, we will convert our sentences to sequences. This just means that we will change them from words to the indices representing these words.\n",
    "\n",
    "Based on the ```word_index``` above, a sentence like ```'I'm in love with you'``` will become a sequence like ```[14, 6, 15, 13, 4]```\n",
    "\n",
    "Additionally we will augment the actual sentences by creating additional n-gram sequences for each.\n",
    "\n",
    "For the example above, some n-gram sequences will be:\n",
    "\n",
    "```[14, 6]```\n",
    "\n",
    "```[14, 6, 15]```\n",
    "\n",
    "```[14, 6, 15, 13]```\n",
    "\n",
    "This is because we want to train our model to predict the most likely next word. By creating these n-gram sequences, we provide the model additional data for doing exactly this."
   ]
  },
  {
   "cell_type": "code",
   "execution_count": 77,
   "metadata": {
    "id": "9cN8XadS5qu2"
   },
   "outputs": [],
   "source": [
    "from statistics import mean, stdev\n",
    "\n",
    "def create_training_seqs(tokenizer, sentences):\n",
    "    # Initiate empty lists\n",
    "    training_seqs = []\n",
    "\n",
    "    # Also measure the length of each sentence - to be used later\n",
    "    sent_lens = []\n",
    "\n",
    "    # Repeat for each sentence\n",
    "    for sentence in sentences:\n",
    "        # Convert a single sentence to a sequence of ints\n",
    "        tokenized_sentence = tokenizer.texts_to_sequences([sentence])[0]\n",
    "        sent_lens.append(len(tokenized_sentence))\n",
    "\n",
    "        # For this sentence, create possible ngram sequences\n",
    "        # Each ngram sequence will help build training data\n",
    "        for i in range(1, len(tokenized_sentence)):\n",
    "            ngram_seq = tokenized_sentence[:i+1]\n",
    "            training_seqs.append(ngram_seq)\n",
    "    mean_len = round(mean(sent_lens))\n",
    "    stdev_len = round(stdev(sent_lens))\n",
    "    print(f'\\nAvg sentence is {mean_len} words long with a stdev of {stdev_len}')\n",
    "    print(f'Created {len(training_seqs)} training sequences from sentences')\n",
    "    training_seqs[:15]\n",
    "    return training_seqs, mean_len, stdev_len"
   ]
  },
  {
   "cell_type": "code",
   "execution_count": 78,
   "metadata": {
    "colab": {
     "base_uri": "https://localhost:8080/"
    },
    "id": "tkNN-zXdL04i",
    "outputId": "879df698-35bd-4b42-e268-ec27dade4c52"
   },
   "outputs": [
    {
     "name": "stdout",
     "output_type": "stream",
     "text": [
      "\n",
      "Avg sentence is 8 words long with a stdev of 3\n",
      "Created 7095 training sequences from sentences\n",
      "\n",
      "Avg sentence is 7 words long with a stdev of 3\n",
      "Created 9785 training sequences from sentences\n"
     ]
    }
   ],
   "source": [
    "all_training_seqs = []\n",
    "len_stats = []\n",
    "\n",
    "for tokenizer, sentences in zip(tokenizers, all_sentences):\n",
    "    training_seqs, mean_len, stdev_len = create_training_seqs(tokenizer,\n",
    "                                                              sentences)\n",
    "    all_training_seqs.append(training_seqs)\n",
    "    len_stats.append(dict(mean=mean_len, stdev=stdev_len))\n"
   ]
  },
  {
   "cell_type": "markdown",
   "metadata": {
    "id": "ildHEiVRcB08"
   },
   "source": [
    "Now we have 7096 and 9792 training sequences for Ed Sheeran and Lana Del Rey respectively.\n",
    "\n",
    "Additionally, we found out a bit about the average length and standard deviation for these 2 artists. We might use this information later on.\n"
   ]
  },
  {
   "cell_type": "code",
   "execution_count": 79,
   "metadata": {
    "colab": {
     "base_uri": "https://localhost:8080/"
    },
    "id": "JqrI6PrtdhqW",
    "outputId": "29b1667a-9534-4943-eba7-7b5fa9e60462"
   },
   "outputs": [
    {
     "data": {
      "text/plain": [
       "[[1, 356],\n",
       " [1, 356, 357],\n",
       " [1, 356, 357, 1],\n",
       " [1, 356, 357, 1, 495],\n",
       " [1, 356, 357, 1, 495, 245],\n",
       " [1, 356, 357, 1, 495, 245, 8],\n",
       " [1, 356, 357, 1, 495, 245, 8, 93],\n",
       " [1, 356, 357, 1, 495, 245, 8, 93, 10],\n",
       " [1, 356, 357, 1, 495, 245, 8, 93, 10, 358],\n",
       " [25, 1],\n",
       " [25, 1, 246],\n",
       " [25, 1, 246, 40],\n",
       " [25, 1, 246, 40, 94],\n",
       " [25, 1, 246, 40, 94, 2],\n",
       " [25, 1, 246, 40, 94, 2, 62]]"
      ]
     },
     "execution_count": 79,
     "metadata": {},
     "output_type": "execute_result"
    }
   ],
   "source": [
    "all_training_seqs[0][:15]"
   ]
  },
  {
   "cell_type": "markdown",
   "metadata": {
    "id": "dFMnmPWVdg_U"
   },
   "source": [
    "So we got our sequences, but they are all of different sizes. Regular tensors will not be able to handle this data. We have 2 options:\n",
    "\n",
    "- Use Ragged Tensors\n",
    "- Pad the data to make all sequences same length\n",
    "\n",
    "\n",
    "We will use padding, since it is the simpler alternative for our task.\n",
    "Addtionally, we will cap each sequence to 15 words. This will make it robust against outliers. Also, 15 is a reasonable value since it is more than double of the average sentence lengths."
   ]
  },
  {
   "cell_type": "code",
   "execution_count": 80,
   "metadata": {
    "colab": {
     "base_uri": "https://localhost:8080/"
    },
    "id": "_dVOmDAcvz8l",
    "outputId": "6dfcc0de-9ece-445a-a2cb-fcc090ced3a2"
   },
   "outputs": [
    {
     "name": "stdout",
     "output_type": "stream",
     "text": [
      "Max sequence length is 16 words\n",
      "Max sequence length is 20 words\n"
     ]
    }
   ],
   "source": [
    "# Pad training seqs to get them all to same length\n",
    "max_lengths = []\n",
    "all_padded_seqs = []\n",
    "for training_seqs in all_training_seqs:\n",
    "    max_length = min(max([len(x) for x in training_seqs]), 20)\n",
    "    max_lengths.append(max_length)\n",
    "    print(f'Max sequence length is {max_length} words')\n",
    "    \n",
    "    # Prefix padding\n",
    "    padded_seqs = pad_sequences(training_seqs, maxlen=max_length,\n",
    "                                padding='pre')\n",
    "    all_padded_seqs.append(padded_seqs)"
   ]
  },
  {
   "cell_type": "code",
   "execution_count": 81,
   "metadata": {
    "colab": {
     "base_uri": "https://localhost:8080/"
    },
    "id": "I8SzqaWJ5fwK",
    "outputId": "f6d09637-baa0-45dc-8d91-433a1e738de4"
   },
   "outputs": [
    {
     "name": "stdout",
     "output_type": "stream",
     "text": [
      "\n",
      "Now the sequences look like this: \n",
      "[[  0   0   0   0   0   0   0   0   0   0   0   0   0   0   1 356]\n",
      " [  0   0   0   0   0   0   0   0   0   0   0   0   0   1 356 357]\n",
      " [  0   0   0   0   0   0   0   0   0   0   0   0   1 356 357   1]\n",
      " [  0   0   0   0   0   0   0   0   0   0   0   1 356 357   1 495]\n",
      " [  0   0   0   0   0   0   0   0   0   0   1 356 357   1 495 245]\n",
      " [  0   0   0   0   0   0   0   0   0   1 356 357   1 495 245   8]\n",
      " [  0   0   0   0   0   0   0   0   1 356 357   1 495 245   8  93]\n",
      " [  0   0   0   0   0   0   0   1 356 357   1 495 245   8  93  10]\n",
      " [  0   0   0   0   0   0   1 356 357   1 495 245   8  93  10 358]\n",
      " [  0   0   0   0   0   0   0   0   0   0   0   0   0   0  25   1]\n",
      " [  0   0   0   0   0   0   0   0   0   0   0   0   0  25   1 246]\n",
      " [  0   0   0   0   0   0   0   0   0   0   0   0  25   1 246  40]\n",
      " [  0   0   0   0   0   0   0   0   0   0   0  25   1 246  40  94]\n",
      " [  0   0   0   0   0   0   0   0   0   0  25   1 246  40  94   2]\n",
      " [  0   0   0   0   0   0   0   0   0  25   1 246  40  94   2  62]]\n",
      "\n",
      "Now the sequences look like this: \n",
      "[[  0   0   0   0   0   0   0   0   0   0   0   0   0   0   0   0   0   0\n",
      "   99 379]\n",
      " [  0   0   0   0   0   0   0   0   0   0   0   0   0   0   0   0   0  99\n",
      "  379   1]\n",
      " [  0   0   0   0   0   0   0   0   0   0   0   0   0   0   0   0  99 379\n",
      "    1 206]\n",
      " [  0   0   0   0   0   0   0   0   0   0   0   0   0   0   0  99 379   1\n",
      "  206 467]\n",
      " [  0   0   0   0   0   0   0   0   0   0   0   0   0   0  99 379   1 206\n",
      "  467  15]\n",
      " [  0   0   0   0   0   0   0   0   0   0   0   0   0  99 379   1 206 467\n",
      "   15  22]\n",
      " [  0   0   0   0   0   0   0   0   0   0   0   0   0   0   0   0   0   0\n",
      "  123   8]\n",
      " [  0   0   0   0   0   0   0   0   0   0   0   0   0   0   0   0   0 123\n",
      "    8 845]\n",
      " [  0   0   0   0   0   0   0   0   0   0   0   0   0   0   0   0 123   8\n",
      "  845  43]\n",
      " [  0   0   0   0   0   0   0   0   0   0   0   0   0   0   0   0   0   0\n",
      "  227 846]\n",
      " [  0   0   0   0   0   0   0   0   0   0   0   0   0   0   0   0   0 227\n",
      "  846   4]\n",
      " [  0   0   0   0   0   0   0   0   0   0   0   0   0   0   0   0 227 846\n",
      "    4 847]\n",
      " [  0   0   0   0   0   0   0   0   0   0   0   0   0   0   0 227 846   4\n",
      "  847 284]\n",
      " [  0   0   0   0   0   0   0   0   0   0   0   0   0   0 227 846   4 847\n",
      "  284  43]\n",
      " [  0   0   0   0   0   0   0   0   0   0   0   0   0   0   0   0   0   0\n",
      "  228  85]]\n"
     ]
    }
   ],
   "source": [
    "for padded_seqs in all_padded_seqs:\n",
    "    print('\\nNow the sequences look like this: ')\n",
    "    print(padded_seqs[:15])"
   ]
  },
  {
   "cell_type": "markdown",
   "metadata": {
    "id": "Qm8sD8iWe7-d"
   },
   "source": [
    "Now we have the data that we need. As stated above, we will make this a prediction problem. To do this, we will separate the last index from the sequences above. This last index will be the label and the remaining part will act like our feature.\n",
    "\n",
    "For example:\n",
    "\n",
    "```[0, 0, 14, 6, 15, 13]``` will become ```[0, 0, 14, 6, 15] ``` + ```[13]```\n",
    "\n",
    "Here, ```[0, 0, 14, 6, 15] ``` will be our feature and our label will be ```[13]```\n",
    "\n",
    "Finally, we will convert our labels to categorical, by one-hot encoding them. This is needed becuase we want the model to be able to predict the probability of each word."
   ]
  },
  {
   "cell_type": "code",
   "execution_count": 82,
   "metadata": {
    "colab": {
     "base_uri": "https://localhost:8080/"
    },
    "id": "Wje3vvDFv5P4",
    "outputId": "a5f8f30d-01c6-4052-e893-edebb79180d3"
   },
   "outputs": [
    {
     "name": "stdout",
     "output_type": "stream",
     "text": [
      "(7095, 15) (7095,) (7095, 1412)\n",
      "(9785, 19) (9785,) (9785, 1553)\n"
     ]
    }
   ],
   "source": [
    "all_features = []\n",
    "all_labels = []\n",
    "\n",
    "for training_seqs, vocab_size in zip(all_padded_seqs, vocab_sizes):\n",
    "    # Separate the seqs to feature and label\n",
    "    features = training_seqs[:, :-1]\n",
    "    labels = training_seqs[:, -1]\n",
    "\n",
    "    # One hot encode the labels\n",
    "    enc_labels = tf.keras.utils.to_categorical(labels, num_classes=vocab_size)\n",
    "\n",
    "    print(features.shape, labels.shape, enc_labels.shape)\n",
    "    all_features.append(features)\n",
    "    all_labels.append(enc_labels)"
   ]
  },
  {
   "cell_type": "markdown",
   "metadata": {
    "id": "chknlBfyhD1z"
   },
   "source": [
    "From the shapes above, we can see that:\n",
    "\n",
    "Each ```max_length``` word sequence has been broken down to a ```max_length - 1``` word input feature and a ```1``` word label. Additionally, the labels have been one-hot encoded, so that now the shape of labels is ```(num_of_seqs, vocab_size)```."
   ]
  },
  {
   "cell_type": "markdown",
   "metadata": {
    "id": "yKZ4x7qUhkTP"
   },
   "source": [
    "\n",
    "# <a id='6'>Modeling<a>\n"
   ]
  },
  {
   "cell_type": "markdown",
   "metadata": {
    "id": "s-Q7sCp7hsAY"
   },
   "source": [
    "Data preparation is now complete. We will begin building our model.\n",
    "\n",
    "As stated above, we will use the following layers:\n",
    "\n",
    "- ```Embedding```: this will create dense vectors from our index sequences and also reduce dimensionality. Our input_dim will be equal to the size of our vocabulary. Output dimension of the embedding has been chosen as 250. This number was arrived at by rough experimentation - 250 is a good value since it serves to reduce the dimensionality significantly (from around 1500), while at the same time it is not so low that our words start losing meaning. Also, our input_length will be 14 (max_length - 1), since that's the length of each sequence.\n",
    "\n",
    "- ```Bidirectional LSTM```: This will ensure that even far away words have a chance of providing context for the next prediction. Also, we will make it bidirectional so words far away on either side will still provide predictive power. We will use 150 as the number of units.\n",
    "\n",
    "- ```Dropout```: This layer is helpful in curbing overfitting. We will randomly turn off 10% of the neurons.\n",
    "\n",
    "- ```Dense```: This will be our output layer. Number of units will be equal to the number of labels - which is same as our vocabulary size. We will use a ```softmax``` activation function because we are predicting probabilities across multiple labels. This will ensure that the predictions sum up to 1.\n",
    "\n",
    "Some other points to note:\n",
    "\n",
    " - While compiling, we will use ```categorical_crossentropy``` as the loss function, since our data is categorical. \n",
    "\n",
    " - Our optimizer will be ```Adam```, since it is a good blend of fast computation and reasonable generalization. It is the go-to optimizer for most use-cases.\n",
    "\n",
    "- While training, we will look at accuracy as a metric\n",
    "\n",
    "- Anything not specified above will be left to default reasonably chosen values\n",
    "\n",
    "\n",
    "Let us build these models and train them.\n",
    "\n"
   ]
  },
  {
   "cell_type": "code",
   "execution_count": 83,
   "metadata": {
    "colab": {
     "base_uri": "https://localhost:8080/"
    },
    "id": "7kHQRXGVv8dW",
    "outputId": "b5571d0c-4c87-4d6a-a9e8-f5fd9929437a"
   },
   "outputs": [
    {
     "name": "stdout",
     "output_type": "stream",
     "text": [
      "Model: \"sequential\"\n",
      "_________________________________________________________________\n",
      " Layer (type)                Output Shape              Param #   \n",
      "=================================================================\n",
      " embedding (Embedding)       (None, 15, 200)           282400    \n",
      "                                                                 \n",
      " bidirectional (Bidirectiona  (None, 300)              421200    \n",
      " l)                                                              \n",
      "                                                                 \n",
      " dropout (Dropout)           (None, 300)               0         \n",
      "                                                                 \n",
      " dense (Dense)               (None, 1412)              425012    \n",
      "                                                                 \n",
      "=================================================================\n",
      "Total params: 1,128,612\n",
      "Trainable params: 1,128,612\n",
      "Non-trainable params: 0\n",
      "_________________________________________________________________\n",
      "\n",
      "\n",
      " None\n",
      "Model: \"sequential_1\"\n",
      "_________________________________________________________________\n",
      " Layer (type)                Output Shape              Param #   \n",
      "=================================================================\n",
      " embedding_1 (Embedding)     (None, 19, 200)           310600    \n",
      "                                                                 \n",
      " bidirectional_1 (Bidirectio  (None, 300)              421200    \n",
      " nal)                                                            \n",
      "                                                                 \n",
      " dropout_1 (Dropout)         (None, 300)               0         \n",
      "                                                                 \n",
      " dense_1 (Dense)             (None, 1553)              467453    \n",
      "                                                                 \n",
      "=================================================================\n",
      "Total params: 1,199,253\n",
      "Trainable params: 1,199,253\n",
      "Non-trainable params: 0\n",
      "_________________________________________________________________\n",
      "\n",
      "\n",
      " None\n"
     ]
    }
   ],
   "source": [
    "# TF imports for building a simple LTSM NN\n",
    "from tensorflow.keras import Sequential\n",
    "from tensorflow.keras.layers import Embedding, Bidirectional, LSTM, Dense, Dropout\n",
    "\n",
    "models = []\n",
    "\n",
    "for vocab_size, max_length in zip(vocab_sizes, max_lengths):\n",
    "    # Build using sequential since each layer will have a single input and output tensor\n",
    "    model = Sequential()\n",
    "\n",
    "    # Embed each words positive int value to a dense vector\n",
    "    model.add(Embedding(vocab_size, 200, input_length=max_length-1))\n",
    "\n",
    "    # LSTM layer with arbitrary value of 150 units - up for experimentation\n",
    "    # We will make the LSTM bidirectional, so that states are fed both ways\n",
    "    model.add(Bidirectional(LSTM(150)))\n",
    "\n",
    "    # Add dropout layer to tone down overfitting\n",
    "    model.add(Dropout(0.05))\n",
    "\n",
    "    # Dense output layer to get back probability of each word\n",
    "    model.add(Dense(vocab_size, activation='softmax'))\n",
    "\n",
    "    # Our labels are categorical, so categorical cross_entropy to be used\n",
    "    model.compile(loss='categorical_crossentropy', optimizer='adam', metrics=['accuracy'])\n",
    "\n",
    "    # Print out summary\n",
    "    print('\\n\\n', model.summary())\n",
    "\n",
    "    models.append(model)\n"
   ]
  },
  {
   "cell_type": "markdown",
   "metadata": {
    "id": "PfsPa3DBnFRU"
   },
   "source": [
    "- We will train our models for 30 epochs. With more data, higher number of epochs may be needed, but for our small chunk of data and compute power, 30 is a fair amount.\n",
    "\n",
    "- Before beginning training, we will also add an early stopping condition. If the loss doesn't decrease for 3 consecutive epochs, we will stop traiing further.\n"
   ]
  },
  {
   "cell_type": "code",
   "execution_count": null,
   "metadata": {
    "colab": {
     "base_uri": "https://localhost:8080/"
    },
    "id": "zkMQsI6Fw6zh",
    "outputId": "f93d0386-e298-4491-d8a2-0dbc39367721"
   },
   "outputs": [
    {
     "name": "stdout",
     "output_type": "stream",
     "text": [
      "Epoch 1/30\n",
      "222/222 [==============================] - 31s 120ms/step - loss: 6.2425 - accuracy: 0.0409\n",
      "Epoch 2/30\n",
      "222/222 [==============================] - 22s 99ms/step - loss: 5.7100 - accuracy: 0.0557\n",
      "Epoch 3/30\n",
      "222/222 [==============================] - 20s 89ms/step - loss: 5.2518 - accuracy: 0.1032\n",
      "Epoch 4/30\n",
      "222/222 [==============================] - 20s 91ms/step - loss: 4.6836 - accuracy: 0.1604\n",
      "Epoch 5/30\n",
      "222/222 [==============================] - 20s 90ms/step - loss: 4.1240 - accuracy: 0.2271\n",
      "Epoch 6/30\n",
      "222/222 [==============================] - 29s 132ms/step - loss: 3.6051 - accuracy: 0.3015\n",
      "Epoch 7/30\n",
      "222/222 [==============================] - 20s 89ms/step - loss: 3.1355 - accuracy: 0.3687\n",
      "Epoch 8/30\n",
      "222/222 [==============================] - 20s 90ms/step - loss: 2.7250 - accuracy: 0.4317\n",
      "Epoch 9/30\n",
      "222/222 [==============================] - 22s 98ms/step - loss: 2.3436 - accuracy: 0.5035\n",
      "Epoch 10/30\n",
      "222/222 [==============================] - 20s 89ms/step - loss: 2.0278 - accuracy: 0.5624\n",
      "Epoch 11/30\n",
      "222/222 [==============================] - 20s 89ms/step - loss: 1.7500 - accuracy: 0.6266\n",
      "Epoch 12/30\n",
      "222/222 [==============================] - 21s 93ms/step - loss: 1.5276 - accuracy: 0.6778\n",
      "Epoch 13/30\n",
      "222/222 [==============================] - 20s 90ms/step - loss: 1.3314 - accuracy: 0.7219\n",
      "Epoch 14/30\n",
      "222/222 [==============================] - 20s 89ms/step - loss: 1.1820 - accuracy: 0.7504\n",
      "Epoch 15/30\n",
      "222/222 [==============================] - 21s 92ms/step - loss: 1.0358 - accuracy: 0.7865\n",
      "Epoch 16/30\n",
      "222/222 [==============================] - 20s 90ms/step - loss: 0.9356 - accuracy: 0.8030\n",
      "Epoch 17/30\n",
      "222/222 [==============================] - 20s 88ms/step - loss: 0.8454 - accuracy: 0.8235\n",
      "Epoch 18/30\n",
      "222/222 [==============================] - 20s 88ms/step - loss: 0.7694 - accuracy: 0.8355\n",
      "Epoch 19/30\n",
      "222/222 [==============================] - 20s 89ms/step - loss: 0.7038 - accuracy: 0.8479\n",
      "Epoch 20/30\n",
      "222/222 [==============================] - 20s 88ms/step - loss: 0.6588 - accuracy: 0.8564\n",
      "Epoch 21/30\n",
      "222/222 [==============================] - 20s 90ms/step - loss: 0.6189 - accuracy: 0.8593\n",
      "Epoch 22/30\n",
      "222/222 [==============================] - 22s 99ms/step - loss: 0.5877 - accuracy: 0.8624\n",
      "Epoch 23/30\n",
      "222/222 [==============================] - 20s 90ms/step - loss: 0.5561 - accuracy: 0.8685\n",
      "Epoch 24/30\n",
      "222/222 [==============================] - 20s 90ms/step - loss: 0.5379 - accuracy: 0.8702\n",
      "Epoch 25/30\n",
      "222/222 [==============================] - 20s 89ms/step - loss: 0.5210 - accuracy: 0.8727\n",
      "Epoch 26/30\n",
      "222/222 [==============================] - 20s 89ms/step - loss: 0.4991 - accuracy: 0.8770\n",
      "Epoch 27/30\n",
      "222/222 [==============================] - 20s 90ms/step - loss: 0.4844 - accuracy: 0.8747\n",
      "Epoch 28/30\n",
      "222/222 [==============================] - 20s 89ms/step - loss: 0.4808 - accuracy: 0.8727\n",
      "Epoch 29/30\n",
      "222/222 [==============================] - 20s 88ms/step - loss: 0.4705 - accuracy: 0.8782\n",
      "Epoch 30/30\n",
      "222/222 [==============================] - 20s 91ms/step - loss: 0.4611 - accuracy: 0.8753\n",
      "Epoch 1/30\n",
      "306/306 [==============================] - 37s 108ms/step - loss: 6.1664 - accuracy: 0.0400\n",
      "Epoch 2/30\n",
      "306/306 [==============================] - 33s 106ms/step - loss: 5.4192 - accuracy: 0.0895\n",
      "Epoch 3/30\n",
      "306/306 [==============================] - 33s 107ms/step - loss: 4.6675 - accuracy: 0.1666\n",
      "Epoch 4/30\n",
      "306/306 [==============================] - 35s 113ms/step - loss: 3.9859 - accuracy: 0.2585\n",
      "Epoch 5/30\n",
      "306/306 [==============================] - 33s 107ms/step - loss: 3.4081 - accuracy: 0.3409\n",
      "Epoch 6/30\n",
      "306/306 [==============================] - 32s 106ms/step - loss: 2.9165 - accuracy: 0.4235\n",
      "Epoch 7/30\n",
      "306/306 [==============================] - 32s 106ms/step - loss: 2.5061 - accuracy: 0.4935\n",
      "Epoch 8/30\n",
      "306/306 [==============================] - 32s 105ms/step - loss: 2.1647 - accuracy: 0.5535\n",
      "Epoch 9/30\n",
      "306/306 [==============================] - 32s 105ms/step - loss: 1.8827 - accuracy: 0.6111\n",
      "Epoch 10/30\n",
      "306/306 [==============================] - 32s 106ms/step - loss: 1.6389 - accuracy: 0.6553\n",
      "Epoch 11/30\n",
      "306/306 [==============================] - 32s 105ms/step - loss: 1.4351 - accuracy: 0.6942\n",
      "Epoch 12/30\n",
      "306/306 [==============================] - 34s 112ms/step - loss: 1.2672 - accuracy: 0.7322\n",
      "Epoch 13/30\n",
      "306/306 [==============================] - 32s 105ms/step - loss: 1.1244 - accuracy: 0.7561\n",
      "Epoch 14/30\n",
      "306/306 [==============================] - 32s 106ms/step - loss: 1.0061 - accuracy: 0.7815\n",
      "Epoch 15/30\n",
      "163/306 [==============>...............] - ETA: 15s - loss: 0.9084 - accuracy: 0.7991"
     ]
    }
   ],
   "source": [
    "histories = []\n",
    "epochs = 30\n",
    "\n",
    "# Early stopping condition\n",
    "# To stop training if no reduction in loss for 3 consecutive epochs\n",
    "callback = tf.keras.callbacks.EarlyStopping(monitor='loss', patience=3)\n",
    "\n",
    "for features, enc_labels, model in zip(all_features, all_labels, models):\n",
    "    model_history = model.fit(features, enc_labels, epochs=epochs,\n",
    "                              callbacks=[callback])\n",
    "    histories.append(model_history)"
   ]
  },
  {
   "cell_type": "markdown",
   "metadata": {
    "id": "I3TlPMXKnnfg"
   },
   "source": [
    "\n",
    "# <a id='7'>Evaluation<a>"
   ]
  },
  {
   "cell_type": "markdown",
   "metadata": {
    "id": "YbzQo-B-nx-0"
   },
   "source": [
    "Great, our models are now trained. We got roughly 87% and 80% accuracy on the training data, which is not bad at all, especially for the small amount of data and the basic network architecture. Remember that text generation is difficult problem to solve, especially with small amounts of data.\n",
    "\n",
    "\n",
    "Let us plot the training history curves to see how our models improved over each epoch."
   ]
  },
  {
   "cell_type": "code",
   "execution_count": 85,
   "metadata": {
    "id": "utTCqoQCSzD2"
   },
   "outputs": [],
   "source": [
    "def plot_model_history(history, epochs):\n",
    "    acc = history.history['accuracy']\n",
    "    loss = history.history['loss']\n",
    "\n",
    "    epochs_range = range(1, epochs + 1)\n",
    "\n",
    "    plt.figure(figsize=(10, 6))\n",
    "    plt.subplot(1, 2, 1)\n",
    "    plt.plot(epochs_range, acc, label='Accuracy')\n",
    "    plt.legend(loc='lower right')\n",
    "    plt.title('Model training accuracy')\n",
    "\n",
    "    plt.subplot(1, 2, 2)\n",
    "    plt.plot(epochs_range, loss, label='Loss')\n",
    "    plt.legend(loc='upper right')\n",
    "    plt.title('Model training loss')\n",
    "    plt.show()"
   ]
  },
  {
   "cell_type": "code",
   "execution_count": 86,
   "metadata": {
    "colab": {
     "base_uri": "https://localhost:8080/",
     "height": 906
    },
    "id": "eHPKmDOeTo8i",
    "outputId": "7c608560-3825-4a98-e63e-4030e8f544ef"
   },
   "outputs": [
    {
     "name": "stdout",
     "output_type": "stream",
     "text": [
      "\n",
      "\n"
     ]
    },
    {
     "data": {
      "image/png": "[encoded data removed]",
      "text/plain": [
       "<Figure size 720x432 with 2 Axes>"
      ]
     },
     "metadata": {
      "needs_background": "light"
     },
     "output_type": "display_data"
    },
    {
     "name": "stdout",
     "output_type": "stream",
     "text": [
      "\n",
      "\n",
      "\n"
     ]
    },
    {
     "data": {
      "image/png": "[encoded data removed]",
      "text/plain": [
       "<Figure size 720x432 with 2 Axes>"
      ]
     },
     "metadata": {
      "needs_background": "light"
     },
     "output_type": "display_data"
    },
    {
     "name": "stdout",
     "output_type": "stream",
     "text": [
      "\n",
      "\n",
      "\n"
     ]
    }
   ],
   "source": [
    "print('\\n')\n",
    "for history in histories:\n",
    "    plot_model_history(history, epochs)\n",
    "    print('\\n\\n')"
   ]
  },
  {
   "cell_type": "markdown",
   "metadata": {
    "id": "KWUzQ0-zor0c"
   },
   "source": [
    "As seen above, the models reached near peak accuracy at about 25 epochs itself. After that, the gain in accuracy slowed down. If we had trained longer and with more data, we could definitely have achived better results.\n",
    "\n",
    "Since the training took quite a while, let us save the trained models, so we do not need to train again if we lose our session."
   ]
  },
  {
   "cell_type": "code",
   "execution_count": 88,
   "metadata": {
    "colab": {
     "base_uri": "https://localhost:8080/"
    },
    "id": "uih5HIzFV-NJ",
    "outputId": "9369d9f7-871f-4cd7-f2ab-e8c54abbbc9f"
   },
   "outputs": [
    {
     "name": "stderr",
     "output_type": "stream",
     "text": [
      "WARNING:absl:Found untraced functions such as lstm_cell_7_layer_call_fn, lstm_cell_7_layer_call_and_return_conditional_losses, lstm_cell_8_layer_call_fn, lstm_cell_8_layer_call_and_return_conditional_losses while saving (showing 4 of 4). These functions will not be directly callable after loading.\n"
     ]
    },
    {
     "name": "stdout",
     "output_type": "stream",
     "text": [
      "INFO:tensorflow:Assets written to: /content/drive/MyDrive/M508_models/lyrgen_30_ed_sheeran/assets\n"
     ]
    },
    {
     "name": "stderr",
     "output_type": "stream",
     "text": [
      "INFO:tensorflow:Assets written to: /content/drive/MyDrive/M508_models/lyrgen_30_ed_sheeran/assets\n",
      "WARNING:absl:<keras.layers.recurrent.LSTMCell object at 0x7f6f635a0810> has the same name 'LSTMCell' as a built-in Keras object. Consider renaming <class 'keras.layers.recurrent.LSTMCell'> to avoid naming conflicts when loading with `tf.keras.models.load_model`. If renaming is not possible, pass the object in the `custom_objects` parameter of the load function.\n",
      "WARNING:absl:<keras.layers.recurrent.LSTMCell object at 0x7f6f5aeead50> has the same name 'LSTMCell' as a built-in Keras object. Consider renaming <class 'keras.layers.recurrent.LSTMCell'> to avoid naming conflicts when loading with `tf.keras.models.load_model`. If renaming is not possible, pass the object in the `custom_objects` parameter of the load function.\n",
      "WARNING:absl:Found untraced functions such as lstm_cell_10_layer_call_fn, lstm_cell_10_layer_call_and_return_conditional_losses, lstm_cell_11_layer_call_fn, lstm_cell_11_layer_call_and_return_conditional_losses while saving (showing 4 of 4). These functions will not be directly callable after loading.\n"
     ]
    },
    {
     "name": "stdout",
     "output_type": "stream",
     "text": [
      "INFO:tensorflow:Assets written to: /content/drive/MyDrive/M508_models/lyrgen_30_lana_del_rey/assets\n"
     ]
    },
    {
     "name": "stderr",
     "output_type": "stream",
     "text": [
      "INFO:tensorflow:Assets written to: /content/drive/MyDrive/M508_models/lyrgen_30_lana_del_rey/assets\n",
      "WARNING:absl:<keras.layers.recurrent.LSTMCell object at 0x7f6f5ac7e110> has the same name 'LSTMCell' as a built-in Keras object. Consider renaming <class 'keras.layers.recurrent.LSTMCell'> to avoid naming conflicts when loading with `tf.keras.models.load_model`. If renaming is not possible, pass the object in the `custom_objects` parameter of the load function.\n",
      "WARNING:absl:<keras.layers.recurrent.LSTMCell object at 0x7f6f5ac7edd0> has the same name 'LSTMCell' as a built-in Keras object. Consider renaming <class 'keras.layers.recurrent.LSTMCell'> to avoid naming conflicts when loading with `tf.keras.models.load_model`. If renaming is not possible, pass the object in the `custom_objects` parameter of the load function.\n"
     ]
    }
   ],
   "source": [
    "# Save the model to be used later\n",
    "from tensorflow.keras.models import save_model\n",
    "\n",
    "# CHANGE THIS IF YOU ARE NOT USING GOOGLE COLAB\n",
    "base_path = '/content/drive/MyDrive/M508_models/'\n",
    "\n",
    "for model, artist in zip(models, artists):\n",
    "    model_name = 'lyrgen_' + str(epochs) + '_' + artist.replace(' ', '_').lower()\n",
    "    model_path = base_path + model_name\n",
    "    save_model(model, model_path, overwrite=True)"
   ]
  },
  {
   "cell_type": "code",
   "execution_count": 22,
   "metadata": {
    "colab": {
     "base_uri": "https://localhost:8080/"
    },
    "id": "2pKRQeseWks8",
    "outputId": "8d8011db-5409-41ed-cbca-b52a910d85a7"
   },
   "outputs": [
    {
     "name": "stdout",
     "output_type": "stream",
     "text": [
      "loaded model lyrgen_50_billie_eilish\n",
      "loaded model lyrgen_50_taylor_swift\n"
     ]
    }
   ],
   "source": [
    "# Load the saved model\n",
    "from tensorflow.keras.models import load_model\n",
    "\n",
    "# CHANGE THIS IF YOU ARE NOT USING GOOGLE COLAB\n",
    "base_path = '/content/drive/MyDrive/M508_models/'\n",
    "\n",
    "models_loaded = []\n",
    "for artist in artists:\n",
    "    model_name = 'lyrgen_' + epochs + '_' + artist.replace(' ', '_').lower()\n",
    "    model_path = base_path + model_name\n",
    "    model_loaded = tf.keras.models.load_model(model_path)\n",
    "    models_loaded.append(model_loaded)\n",
    "    print(f'loaded model {model_name}')"
   ]
  },
  {
   "cell_type": "markdown",
   "metadata": {
    "id": "g6ErLqNCqZHY"
   },
   "source": [
    "\n",
    "# <a id='8'>Text Generation<a>"
   ]
  },
  {
   "cell_type": "markdown",
   "metadata": {
    "id": "x_Uk_twXqly4"
   },
   "source": [
    "Now that we have te trained models, we will create a function which will use the model to predict the next word in a sequence, one word at a time.\n",
    "\n",
    "\n",
    "Our function will also add a few nice touches to make it so that the output looks somewhat like a song lyric, as opposed to just a long string of words.\n",
    "\n",
    "- Function will take the prediction model, seed text, number of sentences to generate and the len_stat we gathered earlier\n",
    "\n",
    "- Using the len_stat, the model will vary the lengths of sentences and punctuations to make the lyric more organic and closer to source\n",
    "\n",
    "- Through experimentation, it was also noticed that in a small number of cases, the model might get stuck predicing the same word again and again\n",
    "\n",
    "- For such cases, the function has a logic to not pick the same word twice - if the best predicted word is same as last predicted word, the function will instead go for the second best predicted word\n",
    "\n",
    "- Once required number of sentences are built, it will return the generated text"
   ]
  },
  {
   "cell_type": "code",
   "execution_count": 107,
   "metadata": {
    "id": "7DeLuQY107jb"
   },
   "outputs": [],
   "source": [
    "import random\n",
    "\n",
    "def generate_text(model, seed_text, num_sents, len_stat, max_length):\n",
    "    # Initiate helper vars\n",
    "    last2_idx = (None, None)\n",
    "    init = True\n",
    "    puncs = ['', ',', '.', ';']\n",
    "    punc_probs = [0.5, 0.3, 0.1, 0.1]\n",
    "    min_snt_len = len_stat['mean'] - int((0.5 * len_stat['stdev']))\n",
    "    max_snt_len = len_stat['mean'] + int((0.5 *len_stat['stdev']))\n",
    "\n",
    "    # Loop to generate num_sent sentences\n",
    "    for i in range(1, num_sents + 1):\n",
    "        snt_len = random.randint(min_snt_len, max_snt_len)\n",
    "        cursor = 0\n",
    "        if i == 1:\n",
    "            cursor = len(seed_text.split(' '))\n",
    "        while cursor <= snt_len:\n",
    "            # Convert seed text to seed sequence\n",
    "            token_list = tokenizer.texts_to_sequences([seed_text])[0]\n",
    "            seed_sequence = pad_sequences([token_list], maxlen=max_length-1,\n",
    "                                            padding='pre')\n",
    "\n",
    "            # Get array of predictions\n",
    "            predictions = model.predict(seed_sequence)[0]\n",
    "\n",
    "            # Get top 3 preditions\n",
    "            #top2_idx = predictions.argsort()[-2:]\n",
    "            top3_idx = predictions.argsort()[-3:]\n",
    "\n",
    "            # Avoid predicting same words in a row\n",
    "            while(top3_idx[-1] in last2_idx):\n",
    "                top3_idx = top3_idx[:-1]\n",
    "            pred_idx = top3_idx[-1]\n",
    "            \n",
    "            pred_word = \"\"\n",
    "            # Get the word from the index\n",
    "            for word, idx in tokenizer.word_index.items():\n",
    "                if idx == pred_idx:\n",
    "                    pred_word = word\n",
    "                    break\n",
    "\n",
    "            # Add predicted word to seed next iteration\n",
    "            # First word of sentence\n",
    "            if cursor == 0:\n",
    "                pred_word = pred_word.title()\n",
    "            # Continuation of sentence\n",
    "            else:\n",
    "                pred_word = ' ' + pred_word\n",
    "\n",
    "            seed_text += pred_word\n",
    "\n",
    "            # Reached end of sentence\n",
    "            if cursor == snt_len:\n",
    "                # Stanza after every 4 lines\n",
    "                if i%4 == 0 or i == num_sents:\n",
    "                    seed_text += '.\\n'\n",
    "                else:\n",
    "                    seed_text += random.choices(puncs, punc_probs, k=1)[0]\n",
    "                seed_text += '\\n'\n",
    "\n",
    "            # Update last_token, increment cursor\n",
    "            last2_idx = last2_idx[1], pred_idx\n",
    "            cursor += 1\n",
    "\n",
    "    return seed_text"
   ]
  },
  {
   "cell_type": "markdown",
   "metadata": {
    "id": "wbgOOK7BsvYk"
   },
   "source": [
    "Finally! Let us test what we have built.\n",
    "\n",
    "We will use 2 seed texts as prompts and generate 8 lines from both the models"
   ]
  },
  {
   "cell_type": "code",
   "execution_count": 108,
   "metadata": {
    "id": "XzUltNUwB-hA"
   },
   "outputs": [],
   "source": [
    "# Change if loaded from elsewhere\n",
    "models_to_test = models"
   ]
  },
  {
   "cell_type": "code",
   "execution_count": 112,
   "metadata": {
    "colab": {
     "base_uri": "https://localhost:8080/"
    },
    "id": "Iw0qTTz2MSgk",
    "outputId": "81f81d28-4efa-46b8-888b-75aa8b22e04d"
   },
   "outputs": [
    {
     "name": "stdout",
     "output_type": "stream",
     "text": [
      "\"Blue sky\" in the style of Ed Sheeran\n",
      "\n",
      "Blue sky la get would your i honey\n",
      "My life off hands but y on a this only,\n",
      "Your see anthem for i'm if beautiful get i'm;\n",
      "Later'S my better right high in the parliament's.\n",
      "\n",
      "Lover a you i'm already on death you,\n",
      "I please oh will baby do wha don't had say;\n",
      "Favors milly will baby tears had to used the enough.\n",
      "Give talk baby me because you i yes your that.\n",
      "\n",
      "\n",
      "\"Blue sky\" in the style of Lana Del Rey\n",
      "\n",
      "Blue sky and i get high on my party,\n",
      "Top out hop time out of my;\n",
      "Time ooh and use talking freedom is,\n",
      "Time to people even in the night of.\n",
      "\n",
      "Freedom that people i know a couldn’t stars in,\n",
      "The freedom that sustained me to a sky,\n",
      "But people i couldn’t to have living they,\n",
      "Asked me but there’s no use in.\n",
      "\n",
      "\n"
     ]
    }
   ],
   "source": [
    "# Scenario 1\n",
    "seed_text1 = 'Blue sky'\n",
    "num_sents = 8\n",
    "for model, artist, len_stat, max_length in zip(models_to_test, artists,\n",
    "                                               len_stats, max_lengths):\n",
    "    print(f'\"{seed_text1}\" in the style of {artist}\\n')\n",
    "    print(generate_text(model, seed_text1, num_sents, len_stat, max_length))"
   ]
  },
  {
   "cell_type": "markdown",
   "metadata": {
    "id": "tG5H8tAkv3fy"
   },
   "source": [
    "- While as a whole, the lyrics are not very coherent, some phrases are!\n",
    "\n",
    "- The style and chosen words are quite distinct for each model\n",
    "\n",
    "- Also, since we did not filter for any profanity, we can expect some explicit words in the generated text\n",
    "\n",
    "Let us try another prompt."
   ]
  },
  {
   "cell_type": "code",
   "execution_count": 113,
   "metadata": {
    "colab": {
     "base_uri": "https://localhost:8080/"
    },
    "id": "DYAJLRM0wc-f",
    "outputId": "3fe12430-d285-4ae1-c637-1cf8915a076e"
   },
   "outputs": [
    {
     "name": "stdout",
     "output_type": "stream",
     "text": [
      "\"I'm sorry\" in the style of Ed Sheeran\n",
      "\n",
      "I'm sorry baby the one anything you the\n",
      "Trying made my the ivy on me pouring.\n",
      "Lover you a got i'm high but a my i'm\n",
      "Niggas cover beautiful i've leave and life for touch.\n",
      "\n",
      "But had my i'm greatest cared revolution hard queen already,\n",
      "Mean queen favors stopped sitting woodstock stopped niggas.\n",
      "Woodstock stopped will baby though shit he's woodstock,\n",
      "Niggas as baby i'm niggas cover woodstock lover will.\n",
      "\n",
      "Though baby design lover you streets fake will hold\n",
      "Dying wha i'm sitting good i slowly where me long,\n",
      "Niggas 'n' early niggas have132embedshare woodstock stopped sitting you'll,\n",
      "Of she's souls somebody baby tears somebody the.\n",
      "\n",
      "\n",
      "\"I'm sorry\" in the style of Lana Del Rey\n",
      "\n",
      "I'm sorry that i'm misbehaving with you 'til,\n",
      "Get him 'til beautiful and crying side the,\n",
      "Stars of the only things night i know\n",
      "It in know what i know that i.\n",
      "\n",
      "Had that asked but they asked but true\n",
      "People in the people in the freedom is the,\n",
      "Only time to the night sky and\n",
      "Night it summer true couldn’t sustained me couldn’t.\n",
      "\n",
      "Asked night couldn’t asked to couldn’t sky,\n",
      "To use this me and a only\n",
      "Side but use my only things but i.\n",
      "Couldn’T even talk in about but i know.\n",
      "\n",
      "\n"
     ]
    }
   ],
   "source": [
    "# Scenario 2\n",
    "seed_text2 = 'I\\'m sorry'\n",
    "num_sents = 12\n",
    "\n",
    "for model, artist, len_stat, max_length in zip(models_to_test, artists,\n",
    "                                               len_stats, max_lengths):\n",
    "    print(f'\"{seed_text2}\" in the style of {artist}\\n')\n",
    "    print(generate_text(model, seed_text2, num_sents, len_stat, max_length))"
   ]
  },
  {
   "cell_type": "markdown",
   "metadata": {
    "id": "nN2bExWzwbO0"
   },
   "source": [
    "These samples are a bit more coherent. It is a bit hard to quantify, but  we can definitely see the artists public personas reflected in these lyrics."
   ]
  },
  {
   "cell_type": "markdown",
   "metadata": {
    "id": "jBE6J6ttw-CK"
   },
   "source": [
    "\n",
    "# <a id='9'>Conclusion<a>\n"
   ]
  },
  {
   "cell_type": "markdown",
   "metadata": {
    "id": "VUHzSzeNxG51"
   },
   "source": [
    "Though far from perfect, this is an interesting pipeline. It is highly adaptable. All we need is an artist and some text representing their work. \n",
    "\n",
    "There is an obvious lack of coherence at a larger level, but on a smaller level, many phrases make sense. This was to be expected due to the simple architecture and lack of adequate data.\n",
    "\n",
    "\n",
    "In summary, this is an area that is promising and definitely worth pursuing. Further improvements can be made using:\n",
    "\n",
    "- More data\n",
    "- Better cleaning the data\n",
    "- A more complex and better tuned model (using BERT perhaps)\n",
    "- Adding rhyme scheme data\n",
    "- Using POS tags to increase coherence\n",
    "- Using song titles/genre for topic modeling to augment word selection\n",
    "\n",
    "\n",
    "The most interesting thing about this kind of a pipeline is that the model is not aware at all about the language it has learnt. In other words, such a pipeline can be easily adapted to other domains and languages - for writing poems, writing prose, or with enough clean data, it could even write logical programming code - the possibilities are truly endless!\n"
   ]
  },
  {
   "cell_type": "markdown",
   "metadata": {
    "id": "rRd0s2ZwyTGc"
   },
   "source": [
    "\n",
    "# <a id='10'>References<a>\n"
   ]
  },
  {
   "cell_type": "markdown",
   "metadata": {
    "id": "KR-2NaIPyZ0w"
   },
   "source": [
    "- Dataset sourced from https://www.kaggle.com/datasets/karnikakapoor/lyrics\n",
    "\n",
    "- Dataset hosted at https://raw.githubusercontent.com/FzQureshi/Datasets/main/Songs.csv\n",
    "\n",
    "- TF Docs: https://www.tensorflow.org/api_docs/python/tf\n",
    "\n",
    "- LSTM Text generation: https://www.analyticsvidhya.com/blog/2021/08/text-generation-using-bidirectional-lstm-a-walk-through-in-tensorflow/\n",
    "\n",
    "- Malmi, E., Takala, P., Toivonen, H., Raiko, T. and Gionis, A. (2016). DopeLearning: A Computational Approach to Rap Lyrics Generation. Proceedings of the 22nd ACM SIGKDD International Conference on Knowledge Discovery and Data Mining - KDD ’16, [online] pp.195–204. doi:10.1145/2939672.2939679.\n",
    "\n",
    "- Cover image: https://djmag.com/news/world%E2%80%99s-first-artificial-intelligence-music-producer-has-arrived\n",
    "‌"
   ]
  }
 ],
 "metadata": {
  "colab": {
   "collapsed_sections": [],
   "name": "M508",
   "provenance": []
  },
  "kernelspec": {
   "display_name": "Python 3 (ipykernel)",
   "language": "python",
   "name": "python3"
  },
  "language_info": {
   "codemirror_mode": {
    "name": "ipython",
    "version": 3
   },
   "file_extension": ".py",
   "mimetype": "text/x-python",
   "name": "python",
   "nbconvert_exporter": "python",
   "pygments_lexer": "ipython3",
   "version": "3.8.12"
  }
 },
 "nbformat": 4,
 "nbformat_minor": 1
}
